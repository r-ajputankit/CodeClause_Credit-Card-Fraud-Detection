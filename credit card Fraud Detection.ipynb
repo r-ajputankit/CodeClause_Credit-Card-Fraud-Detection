{
 "cells": [
  {
   "cell_type": "markdown",
   "id": "8a60eccb",
   "metadata": {},
   "source": [
    "## Credit Card Fraud Detection"
   ]
  },
  {
   "cell_type": "code",
   "execution_count": 1,
   "id": "79bc9507",
   "metadata": {},
   "outputs": [],
   "source": [
    "import numpy as np\n",
    "import pandas as pd\n",
    "from sklearn.model_selection import train_test_split\n",
    "from sklearn.linear_model import LogisticRegression\n",
    "from sklearn.tree import DecisionTreeRegressor\n",
    "from sklearn.metrics import accuracy_score,mean_squared_error\n",
    "import seaborn as sns"
   ]
  },
  {
   "cell_type": "markdown",
   "id": "f46c5160",
   "metadata": {},
   "source": [
    "#### Reading and Analysing the Data"
   ]
  },
  {
   "cell_type": "code",
   "execution_count": 2,
   "id": "6b94b0dd",
   "metadata": {},
   "outputs": [],
   "source": [
    "#loading the dataset to pandas dataframe\n",
    "data = pd.read_csv(\"creditcard.csv\")"
   ]
  },
  {
   "cell_type": "code",
   "execution_count": null,
   "id": "64c04d62",
   "metadata": {},
   "outputs": [],
   "source": [
    "#print first five rows of the data\n",
    "data.head()"
   ]
  },
  {
   "cell_type": "code",
   "execution_count": null,
   "id": "932ca0b8",
   "metadata": {},
   "outputs": [],
   "source": [
    "data.tail()"
   ]
  },
  {
   "cell_type": "code",
   "execution_count": null,
   "id": "ea8ffd22",
   "metadata": {
    "scrolled": true
   },
   "outputs": [],
   "source": [
    "data.describe()"
   ]
  },
  {
   "cell_type": "code",
   "execution_count": null,
   "id": "932b806b",
   "metadata": {},
   "outputs": [],
   "source": [
    "#information about the dataset\n",
    "#scanning data if there is any null value or the missing values.\n",
    "data.info()"
   ]
  },
  {
   "cell_type": "code",
   "execution_count": null,
   "id": "ff328b29",
   "metadata": {},
   "outputs": [],
   "source": [
    "# data.isnull().sum()     #chekcing for the Null values."
   ]
  },
  {
   "cell_type": "code",
   "execution_count": null,
   "id": "a2b134db",
   "metadata": {
    "scrolled": false
   },
   "outputs": [],
   "source": [
    "sns.countplot(x='Class', data=data, hue='Class')"
   ]
  },
  {
   "cell_type": "code",
   "execution_count": null,
   "id": "df1b72a1",
   "metadata": {},
   "outputs": [],
   "source": [
    "data['Class'].value_counts()  "
   ]
  },
  {
   "cell_type": "markdown",
   "id": "c29f85f1",
   "metadata": {},
   "source": [
    "###### Clearly, graph and the value counts indicates, the data is highly unbalanced, as the count of Normal transactions is much higher than the Fraudulent one.\n",
    "###### here,  0 ---> the transaction is normal (legal transaction)\n",
    "###### 1 ---> the transaction is fraud\n"
   ]
  },
  {
   "cell_type": "markdown",
   "id": "8fc890c4",
   "metadata": {},
   "source": []
  },
  {
   "cell_type": "markdown",
   "id": "a64d1367",
   "metadata": {},
   "source": [
    "## Splitting the data as (Fraud or Normal)\n"
   ]
  },
  {
   "cell_type": "code",
   "execution_count": null,
   "id": "f2fb3d0b",
   "metadata": {
    "scrolled": true
   },
   "outputs": [],
   "source": [
    "fraud = data[data['Class']==1]\n",
    "normal = data[data['Class']==0]"
   ]
  },
  {
   "cell_type": "code",
   "execution_count": null,
   "id": "5e61f3ce",
   "metadata": {},
   "outputs": [],
   "source": [
    "print(fraud.shape)\n",
    "print(normal.shape)"
   ]
  },
  {
   "cell_type": "code",
   "execution_count": null,
   "id": "2736ae56",
   "metadata": {},
   "outputs": [],
   "source": [
    "fraud.Amount.describe()"
   ]
  },
  {
   "cell_type": "code",
   "execution_count": null,
   "id": "31f8ab95",
   "metadata": {
    "scrolled": true
   },
   "outputs": [],
   "source": [
    "normal.Amount.describe()"
   ]
  },
  {
   "cell_type": "code",
   "execution_count": null,
   "id": "667f2d50",
   "metadata": {
    "scrolled": false
   },
   "outputs": [],
   "source": [
    "data.groupby('Class').mean()"
   ]
  },
  {
   "cell_type": "markdown",
   "id": "91d3b597",
   "metadata": {},
   "source": [
    "### Handling Imbalanced Data\n",
    "the data credit card data is impbalanced as the normal transaction is much higher than the fraudulent one."
   ]
  },
  {
   "cell_type": "code",
   "execution_count": null,
   "id": "8d6fc994",
   "metadata": {},
   "outputs": [],
   "source": [
    "normal_sample = normal.sample(n=500)"
   ]
  },
  {
   "cell_type": "code",
   "execution_count": null,
   "id": "1d263879",
   "metadata": {},
   "outputs": [],
   "source": [
    "#adding the sample data\n",
    "new_data = pd.concat([normal_sample,fraud])"
   ]
  },
  {
   "cell_type": "code",
   "execution_count": null,
   "id": "36b24bbb",
   "metadata": {
    "scrolled": true
   },
   "outputs": [],
   "source": [
    "new_data.head()"
   ]
  },
  {
   "cell_type": "code",
   "execution_count": null,
   "id": "e5ea7344",
   "metadata": {
    "scrolled": true
   },
   "outputs": [],
   "source": [
    "new_data['Class'].value_counts()"
   ]
  },
  {
   "cell_type": "markdown",
   "id": "443f6428",
   "metadata": {},
   "source": []
  },
  {
   "cell_type": "code",
   "execution_count": null,
   "id": "f7b3aa05",
   "metadata": {},
   "outputs": [],
   "source": [
    "# x---> features\n",
    "# y---> Label\n",
    "x = new_data.drop(['Class'],axis=1)\n",
    "y = new_data['Class']"
   ]
  },
  {
   "cell_type": "markdown",
   "id": "f96da543",
   "metadata": {},
   "source": [
    "### Splitting data into trainig and testing data"
   ]
  },
  {
   "cell_type": "code",
   "execution_count": null,
   "id": "b0faa21e",
   "metadata": {},
   "outputs": [],
   "source": [
    "x_train, x_test, y_train, y_test = train_test_split(x,y, test_size=0.2, random_state=42)  "
   ]
  },
  {
   "cell_type": "code",
   "execution_count": null,
   "id": "2901295a",
   "metadata": {},
   "outputs": [],
   "source": [
    "print(x_train.shape)\n",
    "print(x_test.shape)"
   ]
  },
  {
   "cell_type": "markdown",
   "id": "bb9a83f2",
   "metadata": {},
   "source": [
    "### Creating model using LogisticRegression"
   ]
  },
  {
   "cell_type": "code",
   "execution_count": null,
   "id": "5bd08526",
   "metadata": {},
   "outputs": [],
   "source": [
    "model = LogisticRegression()"
   ]
  },
  {
   "cell_type": "code",
   "execution_count": null,
   "id": "82bb9c9c",
   "metadata": {
    "scrolled": true
   },
   "outputs": [],
   "source": [
    "model.fit(x_train.values, y_train.values)    #training model"
   ]
  },
  {
   "cell_type": "markdown",
   "id": "6cb9d42f",
   "metadata": {},
   "source": [
    "### Evaluating the Model"
   ]
  },
  {
   "cell_type": "code",
   "execution_count": null,
   "id": "71b3afad",
   "metadata": {},
   "outputs": [],
   "source": [
    "train_prediction = model.predict(x_train.values)\n",
    "training_accuracy = accuracy_score(train_prediction, y_train.values)"
   ]
  },
  {
   "cell_type": "code",
   "execution_count": null,
   "id": "5e6cfc00",
   "metadata": {},
   "outputs": [],
   "source": [
    "test_prediction = model.predict(x_test.values)\n",
    "test_accuracy = accuracy_score(test_prediction, y_test.values)"
   ]
  },
  {
   "cell_type": "code",
   "execution_count": null,
   "id": "1a8ccbbe",
   "metadata": {},
   "outputs": [],
   "source": [
    "print(\"Accuracy score of training data:  \",training_accuracy)\n",
    "print(\"Accuracy score of testing data:  \",test_accuracy)"
   ]
  },
  {
   "cell_type": "code",
   "execution_count": null,
   "id": "4e323e9e",
   "metadata": {},
   "outputs": [],
   "source": [
    "print(\"Mean Squared error: \",mean_squared_error(y_test,test_prediction))"
   ]
  },
  {
   "cell_type": "markdown",
   "id": "f4177b16",
   "metadata": {},
   "source": [
    "### Saving Model"
   ]
  },
  {
   "cell_type": "code",
   "execution_count": null,
   "id": "b06ce58b",
   "metadata": {},
   "outputs": [],
   "source": [
    "from joblib import dump, load\n",
    "dump(model, 'model_creditcardFraud.joblib')"
   ]
  }
 ],
 "metadata": {
  "kernelspec": {
   "display_name": "Python 3 (ipykernel)",
   "language": "python",
   "name": "python3"
  },
  "language_info": {
   "codemirror_mode": {
    "name": "ipython",
    "version": 3
   },
   "file_extension": ".py",
   "mimetype": "text/x-python",
   "name": "python",
   "nbconvert_exporter": "python",
   "pygments_lexer": "ipython3",
   "version": "3.10.6"
  }
 },
 "nbformat": 4,
 "nbformat_minor": 5
}
