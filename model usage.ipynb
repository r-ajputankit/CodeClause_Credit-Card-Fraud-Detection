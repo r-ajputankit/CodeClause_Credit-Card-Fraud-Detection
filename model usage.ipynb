{
 "cells": [
  {
   "cell_type": "markdown",
   "id": "44114188",
   "metadata": {},
   "source": [
    "## Using the Model"
   ]
  },
  {
   "cell_type": "code",
   "execution_count": 2,
   "id": "9593c709",
   "metadata": {},
   "outputs": [
    {
     "name": "stdout",
     "output_type": "stream",
     "text": [
      "The Transaction is a Fraud Transaction\n"
     ]
    }
   ],
   "source": [
    "from joblib import dump, load\n",
    "import numpy as np\n",
    "\n",
    "#loading the Model\n",
    "model = load('model_creditcardFraud.joblib')\n",
    "\n",
    "features = np.array([[25095, 1.19239599, 1.338973711, -0.678876187, 3.123672307, 0.643244864, -1.184322994, \n",
    "                      0.397585526, -0.253498538,0.411134977,-0.859862302,1.124059382,-3.763873848,0.367975967,\n",
    "                      -0.971757538,-0.013882513,1.457578528,2.611450334,1.29195523,-1.563815227,-0.18545465,-0.377503243,\n",
    "                      -0.889596748,-0.074207589,0.035445516,0.550577974,-0.027171279,-0.024920621,0.073605399,3.12\n",
    "                     ]])\n",
    "\n",
    "predicted = model.predict(features)\n",
    "\n",
    "if (predicted[0]==0):\n",
    "    print(\"The Transaction is a Normal Transaction\")\n",
    "else:\n",
    "    print(\"The Transaction is a Fraud Transaction\")"
   ]
  },
  {
   "cell_type": "code",
   "execution_count": null,
   "id": "ac29d694",
   "metadata": {},
   "outputs": [],
   "source": []
  }
 ],
 "metadata": {
  "kernelspec": {
   "display_name": "Python 3 (ipykernel)",
   "language": "python",
   "name": "python3"
  },
  "language_info": {
   "codemirror_mode": {
    "name": "ipython",
    "version": 3
   },
   "file_extension": ".py",
   "mimetype": "text/x-python",
   "name": "python",
   "nbconvert_exporter": "python",
   "pygments_lexer": "ipython3",
   "version": "3.10.6"
  }
 },
 "nbformat": 4,
 "nbformat_minor": 5
}
